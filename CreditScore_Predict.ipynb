{
  "nbformat": 4,
  "nbformat_minor": 0,
  "metadata": {
    "kernelspec": {
      "language": "python",
      "display_name": "Python 3",
      "name": "python3"
    },
    "language_info": {
      "pygments_lexer": "ipython3",
      "nbconvert_exporter": "python",
      "version": "3.6.4",
      "file_extension": ".py",
      "codemirror_mode": {
        "name": "ipython",
        "version": 3
      },
      "name": "python",
      "mimetype": "text/x-python"
    },
    "colab": {
      "name": "CreditScore Predict.ipynb",
      "provenance": [],
      "include_colab_link": true
    }
  },
  "cells": [
    {
      "cell_type": "markdown",
      "metadata": {
        "id": "view-in-github",
        "colab_type": "text"
      },
      "source": [
        "<a href=\"https://colab.research.google.com/github/sivakumarAI/MachineLearning/blob/master/CreditScore_Predict.ipynb\" target=\"_parent\"><img src=\"https://colab.research.google.com/assets/colab-badge.svg\" alt=\"Open In Colab\"/></a>"
      ]
    },
    {
      "cell_type": "code",
      "metadata": {
        "_uuid": "8f2839f25d086af736a60e9eeb907d3b93b6e0e5",
        "_cell_guid": "b1076dfc-b9ad-4769-8c92-a6c4dae69d19",
        "trusted": true,
        "id": "BTOUcWHlLv6d",
        "colab_type": "code",
        "colab": {}
      },
      "source": [
        "# This Python 3 environment comes with many helpful analytics libraries installed\n",
        "# It is defined by the kaggle/python docker image: https://github.com/kaggle/docker-python\n",
        "# For example, here's several helpful packages to load in \n",
        "\n",
        "import numpy as np # linear algebra\n",
        "import pandas as pd # data processing, CSV file I/O (e.g. pd.read_csv)\n",
        "\n",
        "# Input data files are available in the \"../input/\" directory.\n",
        "# For example, running this (by clicking run or pressing Shift+Enter) will list all files under the input directory\n",
        "\n",
        "import os\n",
        "for dirname, _, filenames in os.walk('/kaggle/input'):\n",
        "    for filename in filenames:\n",
        "        print(os.path.join(dirname, filename))\n",
        "\n",
        "# Any results you write to the current directory are saved as output."
      ],
      "execution_count": 0,
      "outputs": []
    },
    {
      "cell_type": "code",
      "metadata": {
        "_uuid": "d629ff2d2480ee46fbb7e2d37f6b5fab8052498a",
        "_cell_guid": "79c7e3d0-c299-4dcb-8224-4455121ee9b0",
        "trusted": true,
        "id": "0wqcXvacLv6t",
        "colab_type": "code",
        "colab": {}
      },
      "source": [
        "#import libraries\n",
        "import pandas as pd\n",
        "import numpy as np\n",
        "import seaborn as sns\n",
        "import matplotlib.pyplot as plt\n",
        "from sklearn.model_selection import train_test_split\n",
        "from sklearn.linear_model import LinearRegression\n",
        "from sklearn.metrics import mean_squared_error,mean_absolute_error\n",
        "from sklearn.linear_model import Ridge, Lasso, ElasticNet\n",
        "from sklearn import tree\n",
        "from sklearn.ensemble import RandomForestRegressor\n",
        "import xgboost as xgb\n",
        "\n"
      ],
      "execution_count": 0,
      "outputs": []
    },
    {
      "cell_type": "code",
      "metadata": {
        "id": "4V57_iePM7T_",
        "colab_type": "code",
        "colab": {
          "resources": {
            "http://localhost:8080/nbextensions/google.colab/files.js": {
              "data": "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",
              "ok": true,
              "headers": [
                [
                  "content-type",
                  "application/javascript"
                ]
              ],
              "status": 200,
              "status_text": ""
            }
          },
          "base_uri": "https://localhost:8080/",
          "height": 75
        },
        "outputId": "081c679a-4180-4c54-ac64-96ab97e31788"
      },
      "source": [
        "from google.colab import files\n",
        "uploaded_train = files.upload()"
      ],
      "execution_count": 72,
      "outputs": [
        {
          "output_type": "display_data",
          "data": {
            "text/html": [
              "\n",
              "     <input type=\"file\" id=\"files-a0161365-7562-43b4-b7e5-1d48624749a7\" name=\"files[]\" multiple disabled />\n",
              "     <output id=\"result-a0161365-7562-43b4-b7e5-1d48624749a7\">\n",
              "      Upload widget is only available when the cell has been executed in the\n",
              "      current browser session. Please rerun this cell to enable.\n",
              "      </output>\n",
              "      <script src=\"/nbextensions/google.colab/files.js\"></script> "
            ],
            "text/plain": [
              "<IPython.core.display.HTML object>"
            ]
          },
          "metadata": {
            "tags": []
          }
        },
        {
          "output_type": "stream",
          "text": [
            "Saving CreditScore_train.csv to CreditScore_train (2).csv\n"
          ],
          "name": "stdout"
        }
      ]
    },
    {
      "cell_type": "code",
      "metadata": {
        "id": "zIEEJnTSRR79",
        "colab_type": "code",
        "colab": {
          "resources": {
            "http://localhost:8080/nbextensions/google.colab/files.js": {
              "data": "Ly8gQ29weXJpZ2h0IDIwMTcgR29vZ2xlIExMQwovLwovLyBMaWNlbnNlZCB1bmRlciB0aGUgQXBhY2hlIExpY2Vuc2UsIFZlcnNpb24gMi4wICh0aGUgIkxpY2Vuc2UiKTsKLy8geW91IG1heSBub3QgdXNlIHRoaXMgZmlsZSBleGNlcHQgaW4gY29tcGxpYW5jZSB3aXRoIHRoZSBMaWNlbnNlLgovLyBZb3UgbWF5IG9idGFpbiBhIGNvcHkgb2YgdGhlIExpY2Vuc2UgYXQKLy8KLy8gICAgICBodHRwOi8vd3d3LmFwYWNoZS5vcmcvbGljZW5zZXMvTElDRU5TRS0yLjAKLy8KLy8gVW5sZXNzIHJlcXVpcmVkIGJ5IGFwcGxpY2FibGUgbGF3IG9yIGFncmVlZCB0byBpbiB3cml0aW5nLCBzb2Z0d2FyZQovLyBkaXN0cmlidXRlZCB1bmRlciB0aGUgTGljZW5zZSBpcyBkaXN0cmlidXRlZCBvbiBhbiAiQVMgSVMiIEJBU0lTLAovLyBXSVRIT1VUIFdBUlJBTlRJRVMgT1IgQ09ORElUSU9OUyBPRiBBTlkgS0lORCwgZWl0aGVyIGV4cHJlc3Mgb3IgaW1wbGllZC4KLy8gU2VlIHRoZSBMaWNlbnNlIGZvciB0aGUgc3BlY2lmaWMgbGFuZ3VhZ2UgZ292ZXJuaW5nIHBlcm1pc3Npb25zIGFuZAovLyBsaW1pdGF0aW9ucyB1bmRlciB0aGUgTGljZW5zZS4KCi8qKgogKiBAZmlsZW92ZXJ2aWV3IEhlbHBlcnMgZm9yIGdvb2dsZS5jb2xhYiBQeXRob24gbW9kdWxlLgogKi8KKGZ1bmN0aW9uKHNjb3BlKSB7CmZ1bmN0aW9uIHNwYW4odGV4dCwgc3R5bGVBdHRyaWJ1dGVzID0ge30pIHsKICBjb25zdCBlbGVtZW50ID0gZG9jdW1lbnQuY3JlYXRlRWxlbWVudCgnc3BhbicpOwogIGVsZW1lbnQudGV4dENvbnRlbnQgPSB0ZXh0OwogIGZvciAoY29uc3Qga2V5IG9mIE9iamVjdC5rZXlzKHN0eWxlQXR0cmlidXRlcykpIHsKICAgIGVsZW1lbnQuc3R5bGVba2V5XSA9IHN0eWxlQXR0cmlidXRlc1trZXldOwogIH0KICByZXR1cm4gZWxlbWVudDsKfQoKLy8gTWF4IG51bWJlciBvZiBieXRlcyB3aGljaCB3aWxsIGJlIHVwbG9hZGVkIGF0IGEgdGltZS4KY29uc3QgTUFYX1BBWUxPQURfU0laRSA9IDEwMCAqIDEwMjQ7Ci8vIE1heCBhbW91bnQgb2YgdGltZSB0byBibG9jayB3YWl0aW5nIGZvciB0aGUgdXNlci4KY29uc3QgRklMRV9DSEFOR0VfVElNRU9VVF9NUyA9IDMwICogMTAwMDsKCmZ1bmN0aW9uIF91cGxvYWRGaWxlcyhpbnB1dElkLCBvdXRwdXRJZCkgewogIGNvbnN0IHN0ZXBzID0gdXBsb2FkRmlsZXNTdGVwKGlucHV0SWQsIG91dHB1dElkKTsKICBjb25zdCBvdXRwdXRFbGVtZW50ID0gZG9jdW1lbnQuZ2V0RWxlbWVudEJ5SWQob3V0cHV0SWQpOwogIC8vIENhY2hlIHN0ZXBzIG9uIHRoZSBvdXRwdXRFbGVtZW50IHRvIG1ha2UgaXQgYXZhaWxhYmxlIGZvciB0aGUgbmV4dCBjYWxsCiAgLy8gdG8gdXBsb2FkRmlsZXNDb250aW51ZSBmcm9tIFB5dGhvbi4KICBvdXRwdXRFbGVtZW50LnN0ZXBzID0gc3RlcHM7CgogIHJldHVybiBfdXBsb2FkRmlsZXNDb250aW51ZShvdXRwdXRJZCk7Cn0KCi8vIFRoaXMgaXMgcm91Z2hseSBhbiBhc3luYyBnZW5lcmF0b3IgKG5vdCBzdXBwb3J0ZWQgaW4gdGhlIGJyb3dzZXIgeWV0KSwKLy8gd2hlcmUgdGhlcmUgYXJlIG11bHRpcGxlIGFzeW5jaHJvbm91cyBzdGVwcyBhbmQgdGhlIFB5dGhvbiBzaWRlIGlzIGdvaW5nCi8vIHRvIHBvbGwgZm9yIGNvbXBsZXRpb24gb2YgZWFjaCBzdGVwLgovLyBUaGlzIHVzZXMgYSBQcm9taXNlIHRvIGJsb2NrIHRoZSBweXRob24gc2lkZSBvbiBjb21wbGV0aW9uIG9mIGVhY2ggc3RlcCwKLy8gdGhlbiBwYXNzZXMgdGhlIHJlc3VsdCBvZiB0aGUgcHJldmlvdXMgc3RlcCBhcyB0aGUgaW5wdXQgdG8gdGhlIG5leHQgc3RlcC4KZnVuY3Rpb24gX3VwbG9hZEZpbGVzQ29udGludWUob3V0cHV0SWQpIHsKICBjb25zdCBvdXRwdXRFbGVtZW50ID0gZG9jdW1lbnQuZ2V0RWxlbWVudEJ5SWQob3V0cHV0SWQpOwogIGNvbnN0IHN0ZXBzID0gb3V0cHV0RWxlbWVudC5zdGVwczsKCiAgY29uc3QgbmV4dCA9IHN0ZXBzLm5leHQob3V0cHV0RWxlbWVudC5sYXN0UHJvbWlzZVZhbHVlKTsKICByZXR1cm4gUHJvbWlzZS5yZXNvbHZlKG5leHQudmFsdWUucHJvbWlzZSkudGhlbigodmFsdWUpID0+IHsKICAgIC8vIENhY2hlIHRoZSBsYXN0IHByb21pc2UgdmFsdWUgdG8gbWFrZSBpdCBhdmFpbGFibGUgdG8gdGhlIG5leHQKICAgIC8vIHN0ZXAgb2YgdGhlIGdlbmVyYXRvci4KICAgIG91dHB1dEVsZW1lbnQubGFzdFByb21pc2VWYWx1ZSA9IHZhbHVlOwogICAgcmV0dXJuIG5leHQudmFsdWUucmVzcG9uc2U7CiAgfSk7Cn0KCi8qKgogKiBHZW5lcmF0b3IgZnVuY3Rpb24gd2hpY2ggaXMgY2FsbGVkIGJldHdlZW4gZWFjaCBhc3luYyBzdGVwIG9mIHRoZSB1cGxvYWQKICogcHJvY2Vzcy4KICogQHBhcmFtIHtzdHJpbmd9IGlucHV0SWQgRWxlbWVudCBJRCBvZiB0aGUgaW5wdXQgZmlsZSBwaWNrZXIgZWxlbWVudC4KICogQHBhcmFtIHtzdHJpbmd9IG91dHB1dElkIEVsZW1lbnQgSUQgb2YgdGhlIG91dHB1dCBkaXNwbGF5LgogKiBAcmV0dXJuIHshSXRlcmFibGU8IU9iamVjdD59IEl0ZXJhYmxlIG9mIG5leHQgc3RlcHMuCiAqLwpmdW5jdGlvbiogdXBsb2FkRmlsZXNTdGVwKGlucHV0SWQsIG91dHB1dElkKSB7CiAgY29uc3QgaW5wdXRFbGVtZW50ID0gZG9jdW1lbnQuZ2V0RWxlbWVudEJ5SWQoaW5wdXRJZCk7CiAgaW5wdXRFbGVtZW50LmRpc2FibGVkID0gZmFsc2U7CgogIGNvbnN0IG91dHB1dEVsZW1lbnQgPSBkb2N1bWVudC5nZXRFbGVtZW50QnlJZChvdXRwdXRJZCk7CiAgb3V0cHV0RWxlbWVudC5pbm5lckhUTUwgPSAnJzsKCiAgY29uc3QgcGlja2VkUHJvbWlzZSA9IG5ldyBQcm9taXNlKChyZXNvbHZlKSA9PiB7CiAgICBpbnB1dEVsZW1lbnQuYWRkRXZlbnRMaXN0ZW5lcignY2hhbmdlJywgKGUpID0+IHsKICAgICAgcmVzb2x2ZShlLnRhcmdldC5maWxlcyk7CiAgICB9KTsKICB9KTsKCiAgY29uc3QgY2FuY2VsID0gZG9jdW1lbnQuY3JlYXRlRWxlbWVudCgnYnV0dG9uJyk7CiAgaW5wdXRFbGVtZW50LnBhcmVudEVsZW1lbnQuYXBwZW5kQ2hpbGQoY2FuY2VsKTsKICBjYW5jZWwudGV4dENvbnRlbnQgPSAnQ2FuY2VsIHVwbG9hZCc7CiAgY29uc3QgY2FuY2VsUHJvbWlzZSA9IG5ldyBQcm9taXNlKChyZXNvbHZlKSA9PiB7CiAgICBjYW5jZWwub25jbGljayA9ICgpID0+IHsKICAgICAgcmVzb2x2ZShudWxsKTsKICAgIH07CiAgfSk7CgogIC8vIENhbmNlbCB1cGxvYWQgaWYgdXNlciBoYXNuJ3QgcGlja2VkIGFueXRoaW5nIGluIHRpbWVvdXQuCiAgY29uc3QgdGltZW91dFByb21pc2UgPSBuZXcgUHJvbWlzZSgocmVzb2x2ZSkgPT4gewogICAgc2V0VGltZW91dCgoKSA9PiB7CiAgICAgIHJlc29sdmUobnVsbCk7CiAgICB9LCBGSUxFX0NIQU5HRV9USU1FT1VUX01TKTsKICB9KTsKCiAgLy8gV2FpdCBmb3IgdGhlIHVzZXIgdG8gcGljayB0aGUgZmlsZXMuCiAgY29uc3QgZmlsZXMgPSB5aWVsZCB7CiAgICBwcm9taXNlOiBQcm9taXNlLnJhY2UoW3BpY2tlZFByb21pc2UsIHRpbWVvdXRQcm9taXNlLCBjYW5jZWxQcm9taXNlXSksCiAgICByZXNwb25zZTogewogICAgICBhY3Rpb246ICdzdGFydGluZycsCiAgICB9CiAgfTsKCiAgaWYgKCFmaWxlcykgewogICAgcmV0dXJuIHsKICAgICAgcmVzcG9uc2U6IHsKICAgICAgICBhY3Rpb246ICdjb21wbGV0ZScsCiAgICAgIH0KICAgIH07CiAgfQoKICBjYW5jZWwucmVtb3ZlKCk7CgogIC8vIERpc2FibGUgdGhlIGlucHV0IGVsZW1lbnQgc2luY2UgZnVydGhlciBwaWNrcyBhcmUgbm90IGFsbG93ZWQuCiAgaW5wdXRFbGVtZW50LmRpc2FibGVkID0gdHJ1ZTsKCiAgZm9yIChjb25zdCBmaWxlIG9mIGZpbGVzKSB7CiAgICBjb25zdCBsaSA9IGRvY3VtZW50LmNyZWF0ZUVsZW1lbnQoJ2xpJyk7CiAgICBsaS5hcHBlbmQoc3BhbihmaWxlLm5hbWUsIHtmb250V2VpZ2h0OiAnYm9sZCd9KSk7CiAgICBsaS5hcHBlbmQoc3BhbigKICAgICAgICBgKCR7ZmlsZS50eXBlIHx8ICduL2EnfSkgLSAke2ZpbGUuc2l6ZX0gYnl0ZXMsIGAgKwogICAgICAgIGBsYXN0IG1vZGlmaWVkOiAkewogICAgICAgICAgICBmaWxlLmxhc3RNb2RpZmllZERhdGUgPyBmaWxlLmxhc3RNb2RpZmllZERhdGUudG9Mb2NhbGVEYXRlU3RyaW5nKCkgOgogICAgICAgICAgICAgICAgICAgICAgICAgICAgICAgICAgICAnbi9hJ30gLSBgKSk7CiAgICBjb25zdCBwZXJjZW50ID0gc3BhbignMCUgZG9uZScpOwogICAgbGkuYXBwZW5kQ2hpbGQocGVyY2VudCk7CgogICAgb3V0cHV0RWxlbWVudC5hcHBlbmRDaGlsZChsaSk7CgogICAgY29uc3QgZmlsZURhdGFQcm9taXNlID0gbmV3IFByb21pc2UoKHJlc29sdmUpID0+IHsKICAgICAgY29uc3QgcmVhZGVyID0gbmV3IEZpbGVSZWFkZXIoKTsKICAgICAgcmVhZGVyLm9ubG9hZCA9IChlKSA9PiB7CiAgICAgICAgcmVzb2x2ZShlLnRhcmdldC5yZXN1bHQpOwogICAgICB9OwogICAgICByZWFkZXIucmVhZEFzQXJyYXlCdWZmZXIoZmlsZSk7CiAgICB9KTsKICAgIC8vIFdhaXQgZm9yIHRoZSBkYXRhIHRvIGJlIHJlYWR5LgogICAgbGV0IGZpbGVEYXRhID0geWllbGQgewogICAgICBwcm9taXNlOiBmaWxlRGF0YVByb21pc2UsCiAgICAgIHJlc3BvbnNlOiB7CiAgICAgICAgYWN0aW9uOiAnY29udGludWUnLAogICAgICB9CiAgICB9OwoKICAgIC8vIFVzZSBhIGNodW5rZWQgc2VuZGluZyB0byBhdm9pZCBtZXNzYWdlIHNpemUgbGltaXRzLiBTZWUgYi82MjExNTY2MC4KICAgIGxldCBwb3NpdGlvbiA9IDA7CiAgICB3aGlsZSAocG9zaXRpb24gPCBmaWxlRGF0YS5ieXRlTGVuZ3RoKSB7CiAgICAgIGNvbnN0IGxlbmd0aCA9IE1hdGgubWluKGZpbGVEYXRhLmJ5dGVMZW5ndGggLSBwb3NpdGlvbiwgTUFYX1BBWUxPQURfU0laRSk7CiAgICAgIGNvbnN0IGNodW5rID0gbmV3IFVpbnQ4QXJyYXkoZmlsZURhdGEsIHBvc2l0aW9uLCBsZW5ndGgpOwogICAgICBwb3NpdGlvbiArPSBsZW5ndGg7CgogICAgICBjb25zdCBiYXNlNjQgPSBidG9hKFN0cmluZy5mcm9tQ2hhckNvZGUuYXBwbHkobnVsbCwgY2h1bmspKTsKICAgICAgeWllbGQgewogICAgICAgIHJlc3BvbnNlOiB7CiAgICAgICAgICBhY3Rpb246ICdhcHBlbmQnLAogICAgICAgICAgZmlsZTogZmlsZS5uYW1lLAogICAgICAgICAgZGF0YTogYmFzZTY0LAogICAgICAgIH0sCiAgICAgIH07CiAgICAgIHBlcmNlbnQudGV4dENvbnRlbnQgPQogICAgICAgICAgYCR7TWF0aC5yb3VuZCgocG9zaXRpb24gLyBmaWxlRGF0YS5ieXRlTGVuZ3RoKSAqIDEwMCl9JSBkb25lYDsKICAgIH0KICB9CgogIC8vIEFsbCBkb25lLgogIHlpZWxkIHsKICAgIHJlc3BvbnNlOiB7CiAgICAgIGFjdGlvbjogJ2NvbXBsZXRlJywKICAgIH0KICB9Owp9CgpzY29wZS5nb29nbGUgPSBzY29wZS5nb29nbGUgfHwge307CnNjb3BlLmdvb2dsZS5jb2xhYiA9IHNjb3BlLmdvb2dsZS5jb2xhYiB8fCB7fTsKc2NvcGUuZ29vZ2xlLmNvbGFiLl9maWxlcyA9IHsKICBfdXBsb2FkRmlsZXMsCiAgX3VwbG9hZEZpbGVzQ29udGludWUsCn07Cn0pKHNlbGYpOwo=",
              "ok": true,
              "headers": [
                [
                  "content-type",
                  "application/javascript"
                ]
              ],
              "status": 200,
              "status_text": ""
            }
          },
          "base_uri": "https://localhost:8080/",
          "height": 75
        },
        "outputId": "2253aefc-9390-432a-fc83-2bdb988394bb"
      },
      "source": [
        "from google.colab import files\n",
        "uploaded_test = files.upload()"
      ],
      "execution_count": 74,
      "outputs": [
        {
          "output_type": "display_data",
          "data": {
            "text/html": [
              "\n",
              "     <input type=\"file\" id=\"files-9d005b40-ffe7-48bf-ae7e-eff990102fd7\" name=\"files[]\" multiple disabled />\n",
              "     <output id=\"result-9d005b40-ffe7-48bf-ae7e-eff990102fd7\">\n",
              "      Upload widget is only available when the cell has been executed in the\n",
              "      current browser session. Please rerun this cell to enable.\n",
              "      </output>\n",
              "      <script src=\"/nbextensions/google.colab/files.js\"></script> "
            ],
            "text/plain": [
              "<IPython.core.display.HTML object>"
            ]
          },
          "metadata": {
            "tags": []
          }
        },
        {
          "output_type": "stream",
          "text": [
            "Saving CreditScore_test.csv to CreditScore_test (1).csv\n"
          ],
          "name": "stdout"
        }
      ]
    },
    {
      "cell_type": "code",
      "metadata": {
        "trusted": true,
        "id": "KXEHJj5lLv63",
        "colab_type": "code",
        "colab": {}
      },
      "source": [
        "MSE_Train = []\n",
        "RMSE_Train = []\n",
        "MAE_Train = []\n",
        "MSE_Test = []\n",
        "RMSE_Test = []\n",
        "MAE_Test = []\n",
        "Hyper =[]\n",
        "rfestimator = []\n",
        "tree_depth = []\n",
        "MAPE_Train = []\n",
        "MAPE_Test = []\n",
        "    "
      ],
      "execution_count": 0,
      "outputs": []
    },
    {
      "cell_type": "code",
      "metadata": {
        "id": "NbdDzTSqeOSL",
        "colab_type": "code",
        "colab": {
          "base_uri": "https://localhost:8080/",
          "height": 287
        },
        "outputId": "1f65f6f9-9d4d-4b04-a0ad-89a2c833f72d"
      },
      "source": [
        "ModelFlow()"
      ],
      "execution_count": 85,
      "outputs": [
        {
          "output_type": "error",
          "ename": "KeyError",
          "evalue": "ignored",
          "traceback": [
            "\u001b[0;31m---------------------------------------------------------------------------\u001b[0m",
            "\u001b[0;31mKeyError\u001b[0m                                  Traceback (most recent call last)",
            "\u001b[0;32m<ipython-input-85-523f8598a9cf>\u001b[0m in \u001b[0;36m<module>\u001b[0;34m()\u001b[0m\n\u001b[0;32m----> 1\u001b[0;31m \u001b[0mModelFlow\u001b[0m\u001b[0;34m(\u001b[0m\u001b[0;34m)\u001b[0m\u001b[0;34m\u001b[0m\u001b[0;34m\u001b[0m\u001b[0m\n\u001b[0m",
            "\u001b[0;32m<ipython-input-80-a5a61d277442>\u001b[0m in \u001b[0;36mModelFlow\u001b[0;34m()\u001b[0m\n\u001b[1;32m      3\u001b[0m \u001b[0;34m\u001b[0m\u001b[0m\n\u001b[1;32m      4\u001b[0m   \u001b[0;32mimport\u001b[0m \u001b[0mio\u001b[0m\u001b[0;34m\u001b[0m\u001b[0;34m\u001b[0m\u001b[0m\n\u001b[0;32m----> 5\u001b[0;31m   \u001b[0mCreditTrain\u001b[0m \u001b[0;34m=\u001b[0m \u001b[0mpd\u001b[0m\u001b[0;34m.\u001b[0m\u001b[0mread_csv\u001b[0m\u001b[0;34m(\u001b[0m\u001b[0mio\u001b[0m\u001b[0;34m.\u001b[0m\u001b[0mBytesIO\u001b[0m\u001b[0;34m(\u001b[0m\u001b[0muploaded_train\u001b[0m\u001b[0;34m[\u001b[0m\u001b[0;34m'CreditScore_train (1).csv'\u001b[0m\u001b[0;34m]\u001b[0m\u001b[0;34m)\u001b[0m\u001b[0;34m)\u001b[0m\u001b[0;34m\u001b[0m\u001b[0;34m\u001b[0m\u001b[0m\n\u001b[0m\u001b[1;32m      6\u001b[0m   \u001b[0mCreditTest\u001b[0m \u001b[0;34m=\u001b[0m \u001b[0mpd\u001b[0m\u001b[0;34m.\u001b[0m\u001b[0mread_csv\u001b[0m\u001b[0;34m(\u001b[0m\u001b[0mio\u001b[0m\u001b[0;34m.\u001b[0m\u001b[0mBytesIO\u001b[0m\u001b[0;34m(\u001b[0m\u001b[0muploaded_test\u001b[0m\u001b[0;34m[\u001b[0m\u001b[0;34m'CreditScore_test.csv'\u001b[0m\u001b[0;34m]\u001b[0m\u001b[0;34m)\u001b[0m\u001b[0;34m)\u001b[0m\u001b[0;34m\u001b[0m\u001b[0;34m\u001b[0m\u001b[0m\n\u001b[1;32m      7\u001b[0m \u001b[0;34m\u001b[0m\u001b[0m\n",
            "\u001b[0;31mKeyError\u001b[0m: 'CreditScore_train (1).csv'"
          ]
        }
      ]
    },
    {
      "cell_type": "code",
      "metadata": {
        "trusted": true,
        "id": "XnPHMK0fLv68",
        "colab_type": "code",
        "colab": {}
      },
      "source": [
        "#Execution Flow\n",
        "\n",
        "def ModelFlow():\n",
        "  \n",
        "  import io\n",
        "  CreditTrain = pd.read_csv(io.BytesIO(uploaded_train['CreditScore_train (1).csv']))\n",
        "  CreditTest = pd.read_csv(io.BytesIO(uploaded_test['CreditScore_test.csv']))\n",
        "                  \n",
        "    \n",
        "  #Concatenate both train and test data\n",
        "  Credit_Train_Test = pd.concat([CreditTrain,CreditTest],axis=0)\n",
        "  #print(\"CreditTrain:\",CreditTrain.head())\n",
        "  #print(\"CreditTest:\",CreditTest.head())\n",
        "  #print(\"Credit_Train_Test:\",Credit_Train_Test.head())\n",
        "\n",
        "  #Know the data\n",
        "  KnowTheData(Credit_Train_Test)\n",
        "    \n",
        "  print(\"**********************************************\")\n",
        "  print(\"Linear Model Type Build Process starts.....\")\n",
        "  Credit_Train_Test_Linear = ModelType(Credit_Train_Test,modeltp = \"linear\")\n",
        "            \n",
        "  #Split the dataset into train and test after datacleaning and selected the important features for the model.\n",
        "  Credit_Train = Credit_Train_Test_Linear.head(80000)\n",
        "  Credit_Test = Credit_Train_Test_Linear.tail(20000)\n",
        "    \n",
        "  print(\"Model Selection Starts for Linear.....\")\n",
        "  #Model_Selection\n",
        "  X_train,X_test,Y_train,Y_test, Credit_Test = ModelSelection(Credit_Train, Credit_Test)\n",
        "  print(\"Model Selection Ends for Linear.....\")\n",
        "    \n",
        "  #Build Linear Model\n",
        "  LinearReg(X_train,X_test,Y_train,Y_test,Credit_Test)\n",
        "   \n",
        "  #Build Ridge Model\n",
        "  RidgeReg(X_train,X_test,Y_train,Y_test,Credit_Test)\n",
        "    \n",
        "  print(\"Linear Model Type Build Process ends.....\")\n",
        "  print(\"**********************************************\")\n",
        "    \n",
        "  print(\"**********************************************\")\n",
        "  print(\"Tree Model Type Build Process starts.....\")\n",
        "       \n",
        "  Credit_Train_Test_Tree = ModelType(Credit_Train_Test,modeltp = \"Tree\")\n",
        "    \n",
        "  #Split the dataset into train and test after datacleaning and selected the important features for the model.\n",
        "  Credit_Train = Credit_Train_Test_Tree.head(80000)\n",
        "  Credit_Test = Credit_Train_Test_Tree.tail(20000)\n",
        "    \n",
        "  print(\"Model Selection Starts for Tree.....\")\n",
        "  #Model_Selection\n",
        "  X_train,X_test,Y_train,Y_test, Credit_Test = ModelSelection(Credit_Train, Credit_Test)\n",
        "    \n",
        "  print(\"Model Selection Ends for Tree.....\")\n",
        "    \n",
        "  #Build DSRegressor Model\n",
        "  DSReg(X_train,X_test,Y_train,Y_test,Credit_Test)\n",
        "    \n",
        "  #Build RandomForest Regressor Model\n",
        "  RandomForestReg(X_train,X_test,Y_train,Y_test,Credit_Test)\n",
        "    \n",
        "  #Build XGBoost Regressor Model\n",
        "  XGBoost(X_train,X_test,Y_train,Y_test,Credit_Test)\n",
        "    \n",
        "  print(\"**********************************************\")\n",
        "  print(\"Tree Model Type Build Process ends.....\")\n",
        "    "
      ],
      "execution_count": 0,
      "outputs": []
    },
    {
      "cell_type": "code",
      "metadata": {
        "trusted": true,
        "id": "QWf_o2BcLv7D",
        "colab_type": "code",
        "colab": {}
      },
      "source": [
        "#Knowing the data\n",
        "def KnowTheData(Credit_Train_Test):\n",
        "    display(\"Shape of the dataframe:\")\n",
        "    display(Credit_Train_Test.shape)\n",
        "    CreditTrain_data = []\n",
        "    CreditTrain_data.append(['FeatureName','DataType','No.ofMiss_Values','Percent_of_Miss_Values'])\n",
        "    for col in Credit_Train_Test.columns:\n",
        "        CreditTrain_data.append([col,Credit_Train_Test[col].dtypes,Credit_Train_Test[col].isnull().sum(),(Credit_Train_Test[col].isnull().sum() / len(Credit_Train_Test) * 100)])\n",
        "    \n",
        "    #display(CreditTrain_data)\n",
        "    \n"
      ],
      "execution_count": 0,
      "outputs": []
    },
    {
      "cell_type": "code",
      "metadata": {
        "trusted": true,
        "id": "gATvfLYFLv7H",
        "colab_type": "code",
        "colab": {}
      },
      "source": [
        "def ModelType(Credit_Train_Test,modeltp):\n",
        "    if modeltp == \"linear\":\n",
        "        Credit_Train_Test = DataCleaning(Credit_Train_Test,modeltp)\n",
        "        Credit_Train_Test = Feature_Selection(Credit_Train_Test)\n",
        "    else:\n",
        "        Credit_Train_Test = DataCleaning(Credit_Train_Test,modeltp)\n",
        "    \n",
        "    return Credit_Train_Test\n",
        "        "
      ],
      "execution_count": 0,
      "outputs": []
    },
    {
      "cell_type": "code",
      "metadata": {
        "trusted": true,
        "id": "1poq_fJSLv7M",
        "colab_type": "code",
        "colab": {}
      },
      "source": [
        "def DataCleaning(Credit_Train_Test,modeltp):\n",
        "    DuplicatedData(Credit_Train_Test)\n",
        "    if modeltp == \"linear\":\n",
        "        print(\"DataCleaning Process Starts For Linear.....\")\n",
        "        Credit_Train_Test = DataForImputation(Credit_Train_Test,modeltp)\n",
        "        Credit_Train_Test = Imputation(Credit_Train_Test,modeltp)\n",
        "        print(\"DataCleaning Process Ends For Linear.....\")\n",
        "        \n",
        "    else:\n",
        "        print(\"DataCleaning Process Starts For Tree.....\")\n",
        "        Credit_Train_Test = Imputation(Credit_Train_Test,modeltp)\n",
        "        print(\"DataCleaning Process Ends For Tree.....\")\n",
        "        \n",
        "    return Credit_Train_Test"
      ],
      "execution_count": 0,
      "outputs": []
    },
    {
      "cell_type": "code",
      "metadata": {
        "trusted": true,
        "id": "eOl-1ww1Lv7R",
        "colab_type": "code",
        "colab": {}
      },
      "source": [
        "def DuplicatedData(Credit_Train_Test):\n",
        "    print(\"Finding Duplicated Data\")\n",
        "    print(\"Total number of duplicate records:\", Credit_Train_Test.duplicated().sum())"
      ],
      "execution_count": 0,
      "outputs": []
    },
    {
      "cell_type": "code",
      "metadata": {
        "trusted": true,
        "id": "kk_xUDSMLv7X",
        "colab_type": "code",
        "colab": {}
      },
      "source": [
        "def DataForImputation(Credit_Train_Test,modeltp):\n",
        "    \n",
        "    Features_For_Model = []\n",
        "    Missing_count = 0.0\n",
        "        \n",
        "    if modeltp == 'linear':\n",
        "        \n",
        "        print(\"DataAnalysis For Imputation Starts For Linear...\")\n",
        "        print(\"Drop the features whose greater than equal to 50% of Missing Values:\")\n",
        "        \n",
        "        for col in Credit_Train_Test.columns:\n",
        "            \n",
        "            Missing_count = (Credit_Train_Test[col].isnull().sum()/ len(Credit_Train_Test)) * 100\n",
        "            if Missing_count < 50:\n",
        "                Features_For_Model.append(col)\n",
        "            else:\n",
        "                \n",
        "                #display(Credit_Train_Test[col])\n",
        "                Credit_Train_Test.drop(Credit_Train_Test[[col]],axis=1,inplace=True)\n",
        "    \n",
        "    #display(np.array(Features_For_Model).T)\n",
        "    print(\"DataAnalysis For Imputation Ends For Linear...\")\n",
        "    \n",
        "    return Credit_Train_Test\n",
        "    \n",
        "        "
      ],
      "execution_count": 0,
      "outputs": []
    },
    {
      "cell_type": "code",
      "metadata": {
        "trusted": true,
        "id": "LLuPJtRVLv7b",
        "colab_type": "code",
        "colab": {}
      },
      "source": [
        "#Impute Missing Values:\n",
        "\n",
        "def Imputation(Credit_Train_Test,modeltp):\n",
        "    \n",
        "       \n",
        "    if modeltp == \"linear\":\n",
        "        print(\"Imputation starts for Linear.....\")\n",
        "        for col in Credit_Train_Test.columns:\n",
        "            Credit_Train_Test[col].fillna(Credit_Train_Test[col].mean(),inplace=True)\n",
        "        print(\"Shape of the Dataframe after Imputation for Linear:\")\n",
        "        display(Credit_Train_Test.shape)\n",
        "        print(\"Imputation ends for Linear.....\")\n",
        "        \n",
        "    else:\n",
        "        print(\"Imputation starts for Tree.....\")\n",
        "        display(Credit_Train_Test.shape)\n",
        "        Credit_Train_Test.fillna(0,inplace=True)\n",
        "        print(\"Imputation ends for Tree.....\")\n",
        "    \n",
        "    return Credit_Train_Test\n",
        "        \n",
        "    "
      ],
      "execution_count": 0,
      "outputs": []
    },
    {
      "cell_type": "code",
      "metadata": {
        "trusted": true,
        "id": "B3HW2jQbLv7f",
        "colab_type": "code",
        "colab": {}
      },
      "source": [
        "def Feature_Selection(Credit_Train_Test):\n",
        "    print(\"Identifying the relationship of independent and dependent variables for Linear\")\n",
        "    Credit_Train_Test_Corr = Credit_Train_Test.corr(method='pearson')[['y']].T\n",
        "    Credit_Train_Test_Corr = Credit_Train_Test_Corr[Credit_Train_Test_Corr > 0.3]\n",
        "    #display(CreditTrain_Corr.columns)\n",
        "    Important_Features = []\n",
        "    for col in Credit_Train_Test_Corr.columns:\n",
        "        if Credit_Train_Test_Corr[col].isnull()[0] != True:\n",
        "            Important_Features.append(col)\n",
        "                    \n",
        "    print(\"Important Features from Correlation for Linear\")\n",
        "    #display(Important_Features)\n",
        "    #display(Credit_Train_Test_Corr)\n",
        "    #Multicolinearity(CreditTrain,Important_Features)  \n",
        "    return Credit_Train_Test[Important_Features]\n",
        "    "
      ],
      "execution_count": 0,
      "outputs": []
    },
    {
      "cell_type": "code",
      "metadata": {
        "trusted": true,
        "id": "qlNr7SzPLv7k",
        "colab_type": "code",
        "colab": {}
      },
      "source": [
        "#def Multicolinearity(CreditTrain,Important_Features):\n",
        " #   display(\"Multicolinearity...\")\n",
        "  #  CreditTrain_Corr = CreditTrain[Important_Features].corr()\n",
        "   # CreditTrain_Corr = CreditTrain_Corr[CreditTrain_Corr < 0.75]\n",
        "    #HighMultiColinear_Features = []\n",
        "    #display(CreditTrain_Corr)\n",
        "    #for col1 in CreditTrain_Corr.columns:\n",
        "     #   for col2 in CreditTrain_Corr.columns:\n",
        "      #      if col1 != col2 and col1 != 'y' and col2!= 'y' and CreditTrain_Corr[col1][col2] >= 0.75:\n",
        "       #         if CreditTrain_Corr[col1]['y'] >= CreditTrain_Corr[col2]['y']:\n",
        "        #            if col1 not in HighMultiColinear_Features:\n",
        "         #               HighMultiColinear_Features.append(col1)\n",
        "                    \n",
        "    #display(np.array(HighMultiColinear_Features).T)"
      ],
      "execution_count": 0,
      "outputs": []
    },
    {
      "cell_type": "code",
      "metadata": {
        "trusted": true,
        "id": "muzk6XgDLv7n",
        "colab_type": "code",
        "colab": {}
      },
      "source": [
        "def ModelSelection(CreditTrain,Credit_Test):\n",
        "    print(\"Model Selection Starts.....\")\n",
        "    X = CreditTrain.drop('y',axis=1)\n",
        "    Y = CreditTrain['y']\n",
        "    Credit_Test.drop('y',axis=1,inplace=True)\n",
        "    X_train,X_test,Y_train,Y_test = train_test_split(X,Y,test_size=0.3,random_state=10)\n",
        "    \n",
        "    #print(\"X_train shape:\", X_train.shape)\n",
        "    #print(\"X_test shape:\", X_test.shape)\n",
        "    #print(\"Y_train shape:\", Y_train.shape)\n",
        "    #print(\"Y_test shape:\", Y_test.shape)\n",
        "    print(\"Model Selection Ends.....\")\n",
        "    return X_train,X_test,Y_train,Y_test,Credit_Test\n",
        "    "
      ],
      "execution_count": 0,
      "outputs": []
    },
    {
      "cell_type": "code",
      "metadata": {
        "trusted": true,
        "id": "U6vCmSjpLv7q",
        "colab_type": "code",
        "colab": {}
      },
      "source": [
        "def LinearReg(X_train,X_test,Y_train,Y_test,Credit_Test):\n",
        "    algo = 'linear'\n",
        "    model = LinearRegression()\n",
        "    model.fit(X_train,Y_train)\n",
        "    print(\"LinearRegression:\")\n",
        "    Y_train_predict = model.predict(X_train)\n",
        "    Y_test_predict = model.predict(X_test)\n",
        "    Y_Credit_test_predict = model.predict(Credit_Test)\n",
        "    print(\"********Linear Regression Measures****************\")\n",
        "    Measures(Y_train,Y_train_predict,Y_test,Y_test_predict,Y_Credit_test_predict)\n",
        "    Linear_accuracy = pd.DataFrame({\"MSE-Train\":MSE_Train,\"MSE-Test\":MSE_Test,\"RMSE-Train\":RMSE_Train,\"RMSE-Test\":RMSE_Test,\"MAE-Train\":MAE_Train,\"MAE-Test\":MAE_Test,\"MAPE-Train\":MAPE_Train,\"MAPE-Test\":MAPE_Test})\n",
        "    ModelPerformance(algo,Linear_accuracy)\n",
        "    "
      ],
      "execution_count": 0,
      "outputs": []
    },
    {
      "cell_type": "code",
      "metadata": {
        "trusted": true,
        "id": "0tjUlgIeLv7s",
        "colab_type": "code",
        "colab": {}
      },
      "source": [
        "def RidgeReg(X_train,X_test,Y_train,Y_test,Credit_Test):\n",
        "    global Hyper\n",
        "    algo = 'Ridge'\n",
        "    \n",
        "    print(\"RidgeRegression:\")\n",
        "    print(\"********Ridge Regression Measures****************\")\n",
        "    \n",
        "    for alpha in range(1,10):\n",
        "        model = Ridge(alpha,normalize=True)\n",
        "        Hyper.append(alpha)\n",
        "        model.fit(X_train,Y_train)\n",
        "        Y_train_predict = model.predict(X_train)\n",
        "        Y_test_predict = model.predict(X_test)\n",
        "        Y_Credit_test_predict = model.predict(Credit_Test)\n",
        "        Measures(Y_train,Y_train_predict,Y_test,Y_test_predict,Y_Credit_test_predict)\n",
        "        \n",
        "    Ridge_optimize = pd.DataFrame({\"Penalty\":Hyper,\"MSE-Train\":MSE_Train,\"MSE-Test\":MSE_Test,\"RMSE-Train\":RMSE_Train,\"RMSE-Test\":RMSE_Test,\"MAE-Train\":MAE_Train,\"MAE-Test\":MAE_Test,\"MAPE-Train\":MAPE_Train,\"MAPE-Test\":MAPE_Test})\n",
        "        \n",
        "    ModelPerformance(algo, Ridge_optimize)\n",
        "    \n",
        "    \n"
      ],
      "execution_count": 0,
      "outputs": []
    },
    {
      "cell_type": "code",
      "metadata": {
        "trusted": true,
        "id": "VKjeTJnZLv7v",
        "colab_type": "code",
        "colab": {}
      },
      "source": [
        "def DSReg(X_train,X_test,Y_train,Y_test,Credit_Test):\n",
        "    global Hyper\n",
        "    algo = 'ds'\n",
        "    print(\"Decision Tree:\")\n",
        "    print(\"********Decision Tree Regression Measures****************\")\n",
        "    for depth in range(1,20):\n",
        "        dsmodel = tree.DecisionTreeRegressor(max_depth=depth)\n",
        "        Hyper.append(depth)\n",
        "        dsmodel.fit(X_train,Y_train)\n",
        "        Y_train_predict = dsmodel.predict(X_train)\n",
        "        Y_test_predict = dsmodel.predict(X_test)\n",
        "        Y_Credit_test_predict = dsmodel.predict(Credit_Test)\n",
        "        Measures(Y_train,Y_train_predict,Y_test,Y_test_predict,Y_Credit_test_predict)\n",
        "    \n",
        "    ds_optimize = pd.DataFrame({\"TreeDepth\":Hyper,\"MSE-Train\":MSE_Train,\"MSE-Test\":MSE_Test,\"RMSE-Train\":RMSE_Train,\"RMSE-Test\":RMSE_Test,\"MAE-Train\":MAE_Train,\"MAE-Test\":MAE_Test,\"MAPE-Train\":MAPE_Train,\"MAPE-Test\":MAPE_Test})\n",
        "    \n",
        "    ModelPerformance(algo,ds_optimize)\n",
        "    "
      ],
      "execution_count": 0,
      "outputs": []
    },
    {
      "cell_type": "code",
      "metadata": {
        "trusted": true,
        "id": "hdoVmHgBLv7x",
        "colab_type": "code",
        "colab": {}
      },
      "source": [
        "def RandomForestReg(X_train,X_test,Y_train,Y_test,Credit_Test):\n",
        "    global rfestimator, tree_depth\n",
        "    algo = \"RandomForest\"\n",
        "    print(\"**************Random Forest Regressor*****************\")\n",
        "    \n",
        "    for estimator in range(10,21,2):\n",
        "        \n",
        "        for depth in range(1,10,2):\n",
        "            rfestimator.append(estimator)\n",
        "            tree_depth.append(depth)\n",
        "            random_model = RandomForestRegressor(n_estimators=estimator,max_depth = depth, random_state=0)\n",
        "            random_model.fit(X_train,Y_train)\n",
        "            Y_train_predict = random_model.predict(X_train)\n",
        "            Y_test_predict = random_model.predict(X_test)\n",
        "            Y_Credit_test_predict = random_model.predict(Credit_Test)\n",
        "            \n",
        "            Measures(Y_train,Y_train_predict,Y_test,Y_test_predict,Y_Credit_test_predict)\n",
        "        \n",
        "    random_accuracy = pd.DataFrame({\"No of Trees\":rfestimator,\"Tree Depth\": tree_depth,\"MSE-Train\":MSE_Train,\"MSE-Test\":MSE_Test,\"RMSE-Train\":RMSE_Train,\"RMSE-Test\":RMSE_Test,\"MAE-Train\":MAE_Train,\"MAE-Test\":MAE_Test,\"MAPE-Train\":MAPE_Train,\"MAPE-Test\":MAPE_Test})\n",
        "    \n",
        "    ModelPerformance(algo,random_accuracy)\n",
        "    rfestimator = []\n",
        "    tree_depth = []\n",
        "    \n",
        "    "
      ],
      "execution_count": 0,
      "outputs": []
    },
    {
      "cell_type": "code",
      "metadata": {
        "trusted": true,
        "id": "SUhpgh2wLv70",
        "colab_type": "code",
        "colab": {}
      },
      "source": [
        "def XGBoost(X_train,X_test,Y_train,Y_test,Credit_Test):\n",
        "    print(\"**************XGBOOST**********************\")\n",
        "    global rfestimator, tree_depth\n",
        "    algo = \"XGBoost\"\n",
        "    estimator = 1000\n",
        "    depth = 9\n",
        "    #for estimator in range(100,1001,100):\n",
        "        \n",
        "     #   for depth in range(1,10):\n",
        "    rfestimator.append(estimator)\n",
        "    tree_depth.append(depth)\n",
        "        #xgb_model = xgb.XGBRegressor(n_estimators=estimator, learning_rate=0.1, \n",
        "         #                        subsample=0.75,colsample_bytree=1,max_depth=depth,\n",
        "          #                       random_state=10,gamma=1)\n",
        "    xgb_model = xgb.XGBRegressor(objective ='reg:squarederror')\n",
        "\n",
        "    xgb_model.fit(X_train,Y_train)\n",
        "    Y_train_predict = xgb_model.predict(X_train)\n",
        "    Y_test_predict = xgb_model.predict(X_test)\n",
        "    Y_Credit_test_predict = xgb_model.predict(Credit_Test)\n",
        "    Measures(Y_train,Y_train_predict,Y_test,Y_test_predict,Y_Credit_test_predict)\n",
        "   \n",
        "    xgb_accuracy = pd.DataFrame({\"No of Trees\":rfestimator,\"Tree Depth\": tree_depth,\"MSE-Train\":MSE_Train,\"MSE-Test\":MSE_Test,\"RMSE-Train\":RMSE_Train,\"RMSE-Test\":RMSE_Test,\"MAE-Train\":MAE_Train,\"MAE-Test\":MAE_Test,\"MAPE-Train\":MAPE_Train,\"MAPE-Test\":MAPE_Test})\n",
        "        \n",
        "    ModelPerformance(algo,xgb_accuracy)\n",
        "    rfestimator = []\n",
        "    tree_depth = []\n",
        "       "
      ],
      "execution_count": 0,
      "outputs": []
    },
    {
      "cell_type": "code",
      "metadata": {
        "trusted": true,
        "id": "JWyz4oAILv73",
        "colab_type": "code",
        "colab": {}
      },
      "source": [
        "def Measures(Y_train,Y_train_predict,Y_test,Y_test_predict,Y_Credit_test_predict):\n",
        "    \n",
        "    global MSE_Train, RMSE_Train,MAE_Train, MSE_Test, RMSE_Test, MAE_Test, MAPE_Train, MAPE_Test, Hyper\n",
        "    \n",
        "    MSE = mean_squared_error(Y_train,Y_train_predict)\n",
        "    RMSE = np.sqrt(mean_squared_error(Y_train,Y_train_predict))\n",
        "    MAE = mean_absolute_error(Y_train,Y_train_predict)\n",
        "    MAPE = np.mean(np.abs((Y_train - Y_train_predict) / Y_train)) * 100\n",
        "\n",
        "        \n",
        "    MSE_Train.append(MSE)\n",
        "    RMSE_Train.append(RMSE)\n",
        "    MAE_Train.append(MAE)\n",
        "    MAPE_Train.append(MAPE)\n",
        "               \n",
        "        \n",
        "    MSE = mean_squared_error(Y_test,Y_test_predict)\n",
        "    RMSE = np.sqrt(mean_squared_error(Y_test,Y_test_predict))\n",
        "    MAE = mean_absolute_error(Y_test,Y_test_predict)\n",
        "    MAPE = np.mean(np.abs((Y_test - Y_test_predict) / Y_test)) * 100\n",
        "        \n",
        "    MSE_Test.append(MSE)\n",
        "    RMSE_Test.append(RMSE)\n",
        "    MAE_Test.append(MAE)\n",
        "    MAPE_Test.append(MAPE)\n",
        "    \n",
        "        \n",
        "    "
      ],
      "execution_count": 0,
      "outputs": []
    },
    {
      "cell_type": "code",
      "metadata": {
        "trusted": true,
        "id": "re9KYtwELv76",
        "colab_type": "code",
        "colab": {}
      },
      "source": [
        "def ModelPerformance(algo,performance):\n",
        "    print(\"Performance of the model:\", algo)\n",
        "    global Hyper, MSE_Train, RMSE_Train,MAE_Train,MSE_Test, RMSE_Test,MAE_Test,MAPE_Train,MAPE_Test\n",
        "    \n",
        "    display(performance)  \n",
        "    if algo == 'XGBoost':\n",
        "        plt.figure(figsize=(10,5))\n",
        "        sns.lineplot(x=performance[\"No of Trees\"],y=performance[\"MSE-Train\"])\n",
        "               \n",
        "        sns.lineplot(x=performance[\"No of Trees\"],y=performance[\"MSE-Test\"])\n",
        "        plt.xlabel(\"No of Trees\")\n",
        "        plt.ylabel(\"MSE-Error\")\n",
        "                \n",
        "        plt.show()\n",
        "        \n",
        "    Hyper = []\n",
        "    MSE_Train = []\n",
        "    RMSE_Train = []\n",
        "    MAE_Train = []\n",
        "    MSE_Test = []\n",
        "    RMSE_Test = []\n",
        "    MAE_Test = []\n",
        "    MAPE_Train = []\n",
        "    MAPE_Test = []\n",
        "    MAPE_Train = []\n",
        "    MAPE_Test = []\n",
        "    "
      ],
      "execution_count": 0,
      "outputs": []
    }
  ]
}